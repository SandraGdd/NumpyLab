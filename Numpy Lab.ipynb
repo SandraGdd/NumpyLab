{
 "cells": [
  {
   "cell_type": "code",
   "execution_count": 1,
   "id": "b8034063-f9cd-4a9c-a377-25f1a6027107",
   "metadata": {},
   "outputs": [],
   "source": [
    "#### 1. Import the numpy package under the name `np`\n",
    "import numpy as np"
   ]
  },
  {
   "cell_type": "code",
   "execution_count": 3,
   "id": "c83e98b2-221e-448e-80a8-25964f19933a",
   "metadata": {},
   "outputs": [
    {
     "data": {
      "text/plain": [
       "array([0., 0., 0., 0., 0., 0., 0., 0., 0., 0.])"
      ]
     },
     "execution_count": 3,
     "metadata": {},
     "output_type": "execute_result"
    }
   ],
   "source": [
    "#### 2. Create a null vector of size 10 \n",
    "\n",
    "null_vector = np.zeros((10))  \n",
    "null_vector"
   ]
  },
  {
   "cell_type": "code",
   "execution_count": 5,
   "id": "906181bc-76d5-4132-9a55-ff0eb0ac5369",
   "metadata": {},
   "outputs": [
    {
     "data": {
      "text/plain": [
       "array([0., 0., 0., 0., 1., 0., 0., 0., 0., 0.])"
      ]
     },
     "execution_count": 5,
     "metadata": {},
     "output_type": "execute_result"
    }
   ],
   "source": [
    "#### 3. Create a null vector of size 10 but the fifth value which is 1\n",
    "\n",
    "null_vector = np.zeros(10)\n",
    "null_vector[4] = 1\n",
    "null_vector"
   ]
  },
  {
   "cell_type": "code",
   "execution_count": 7,
   "id": "7c5006ab-3d52-4746-be3d-cbff0210d4c2",
   "metadata": {},
   "outputs": [
    {
     "data": {
      "text/plain": [
       "array([10, 11, 12, 13, 14, 15, 16, 17, 18, 19, 20, 21, 22, 23, 24, 25, 26,\n",
       "       27, 28, 29, 30, 31, 32, 33, 34, 35, 36, 37, 38, 39, 40, 41, 42, 43,\n",
       "       44, 45, 46, 47, 48, 49])"
      ]
     },
     "execution_count": 7,
     "metadata": {},
     "output_type": "execute_result"
    }
   ],
   "source": [
    "#### 4. Create a vector with values ranging from 10 to 49\n",
    "\n",
    "vector = np.arange(10, 50)\n",
    "vector"
   ]
  },
  {
   "cell_type": "code",
   "execution_count": 13,
   "id": "64b29728-99cb-4c71-9150-c5ee1ee308c3",
   "metadata": {},
   "outputs": [
    {
     "data": {
      "text/plain": [
       "array([[0, 1, 2],\n",
       "       [3, 4, 5],\n",
       "       [6, 7, 8]])"
      ]
     },
     "execution_count": 13,
     "metadata": {},
     "output_type": "execute_result"
    }
   ],
   "source": [
    "#### 5. Create a 3x3 matrix with values ranging from 0 to 8\n",
    "\n",
    "matrix = np.arange(0,9).reshape(3,3)\n",
    "matrix"
   ]
  },
  {
   "cell_type": "code",
   "execution_count": 19,
   "id": "5079c74c-ba0c-4d48-8e1c-ed6445c46b08",
   "metadata": {},
   "outputs": [
    {
     "data": {
      "text/plain": [
       "array([0, 1, 4])"
      ]
     },
     "execution_count": 19,
     "metadata": {},
     "output_type": "execute_result"
    }
   ],
   "source": [
    "#### 6. Find indices of non-zero elements from [1,2,0,0,4,0]\n",
    "\n",
    "array = [1,2,0,0,4,0]\n",
    "non_zero = np.nonzero(array)\n",
    "non_zero      "
   ]
  },
  {
   "cell_type": "code",
   "execution_count": 35,
   "id": "6305a73a-813b-4357-a228-eff9c0f69ef8",
   "metadata": {},
   "outputs": [
    {
     "data": {
      "text/plain": [
       "array([[1., 0., 0.],\n",
       "       [0., 1., 0.],\n",
       "       [0., 0., 1.]])"
      ]
     },
     "execution_count": 35,
     "metadata": {},
     "output_type": "execute_result"
    }
   ],
   "source": [
    "#### 7. Create a 3x3 identity matrix\n",
    "\n",
    "identity_matrix = np.eye(3)\n",
    "identity_matrix"
   ]
  },
  {
   "cell_type": "code",
   "execution_count": 37,
   "id": "9567362a-780b-4191-81ab-4ba6c31e7ec0",
   "metadata": {},
   "outputs": [
    {
     "data": {
      "text/plain": [
       "array([[[0.77729948, 0.70559435, 0.23490299],\n",
       "        [0.85688545, 0.00260271, 0.86811465],\n",
       "        [0.44057045, 0.84269723, 0.39191402]],\n",
       "\n",
       "       [[0.93825331, 0.23166929, 0.53066202],\n",
       "        [0.8867533 , 0.4806384 , 0.45134197],\n",
       "        [0.93967436, 0.43720157, 0.68416909]],\n",
       "\n",
       "       [[0.10796383, 0.71147432, 0.96294588],\n",
       "        [0.93856727, 0.04565385, 0.6505025 ],\n",
       "        [0.51883777, 0.93517555, 0.70630935]]])"
      ]
     },
     "execution_count": 37,
     "metadata": {},
     "output_type": "execute_result"
    }
   ],
   "source": [
    "#### 8. Create a 3x3x3 array with random values\n",
    "\n",
    "random_array = np.random.rand(3,3,3)\n",
    "random_array"
   ]
  },
  {
   "cell_type": "code",
   "execution_count": 41,
   "id": "ff9da58f-daed-46d2-bd12-2642d7b86fe9",
   "metadata": {},
   "outputs": [
    {
     "data": {
      "text/plain": [
       "(0.007362489479107892, 0.9979039696947914)"
      ]
     },
     "execution_count": 41,
     "metadata": {},
     "output_type": "execute_result"
    }
   ],
   "source": [
    "#### 9. Create a 10x10 array with random values and find the minimum and maximum values\n",
    "\n",
    "random_10 = np.random.rand(10, 10)\n",
    "min = random_10.min()\n",
    "max = random_10.max()\n",
    "min, max"
   ]
  },
  {
   "cell_type": "code",
   "execution_count": 55,
   "id": "324511d4-60ea-459a-820f-f74b9289d755",
   "metadata": {},
   "outputs": [
    {
     "data": {
      "text/plain": [
       "0.5121367747596629"
      ]
     },
     "execution_count": 55,
     "metadata": {},
     "output_type": "execute_result"
    }
   ],
   "source": [
    "#### 10. Create a random vector of size 30 and find the mean value \n",
    "\n",
    "random_vector = np.random.rand(30)\n",
    "mean = random_vector.mean()\n",
    "mean"
   ]
  },
  {
   "cell_type": "code",
   "execution_count": 43,
   "id": "2e7df6fd-e486-45ae-b2c5-0a183528618d",
   "metadata": {},
   "outputs": [
    {
     "data": {
      "text/plain": [
       "array([[0, 0, 0, 0, 0, 0],\n",
       "       [1, 0, 0, 0, 0, 0],\n",
       "       [0, 2, 0, 0, 0, 0],\n",
       "       [0, 0, 3, 0, 0, 0],\n",
       "       [0, 0, 0, 4, 0, 0],\n",
       "       [0, 0, 0, 0, 5, 0]])"
      ]
     },
     "execution_count": 43,
     "metadata": {},
     "output_type": "execute_result"
    }
   ],
   "source": [
    "#### 11. Create a 5x5 matrix with values 1,2,3,4 just below the diagonal # numpy.diag(v, k=0) Extract a diagonal or construct a diagonal array.\n",
    "\n",
    "values = np.array([1, 2, 3, 4, 5])\n",
    "matrix = np.diag(values, k=-1)                         #k= which daigonal? \n",
    "matrix"
   ]
  },
  {
   "cell_type": "code",
   "execution_count": 23,
   "id": "ac3dc11a-78a7-4a29-82cd-84de8fd7b822",
   "metadata": {},
   "outputs": [
    {
     "data": {
      "text/plain": [
       "array([[ 0.99761302, -0.87167389,  0.79624804, -0.15668927,  1.28622149],\n",
       "       [ 0.88633486, -1.49425386, -1.05952276,  0.01039544,  1.20347557],\n",
       "       [-1.3809952 ,  0.43616659,  0.84025416, -0.45239432, -0.96240594],\n",
       "       [ 0.50017329,  1.1660695 , -0.54937214,  1.42925368,  1.4036413 ],\n",
       "       [ 0.10094134, -1.69229151, -0.65794081, -1.43452061, -0.34472798]])"
      ]
     },
     "execution_count": 23,
     "metadata": {},
     "output_type": "execute_result"
    }
   ],
   "source": [
    "#### 12. Normalize a 5x5 random matrix: hint: (x -mean)/std`\n",
    "\n",
    "matrix = np.random.rand(5,5)\n",
    "matrix\n",
    "mean = matrix.mean()\n",
    "std = matrix.std()\n",
    "normalized_matrix = (matrix - mean) / std\n",
    "normalized_matrix"
   ]
  },
  {
   "cell_type": "code",
   "execution_count": 79,
   "id": "bbc61d98-30ad-40b0-8d79-6fcc6b960361",
   "metadata": {},
   "outputs": [
    {
     "data": {
      "text/plain": [
       "array([4, 5])"
      ]
     },
     "execution_count": 79,
     "metadata": {},
     "output_type": "execute_result"
    }
   ],
   "source": [
    "#### 13. How to find common values between two arrays?   hint: np.intersect1d`\n",
    "\n",
    "array1 = np.array([1, 2, 3, 4, 5])\n",
    "array2 = np.array([4, 5, 6, 7, 8])\n",
    "common_values = np.intersect1d(array1, array2)\n",
    "common_values"
   ]
  },
  {
   "cell_type": "code",
   "execution_count": 83,
   "id": "79d63c23-10ab-460f-80e1-ce36124dab47",
   "metadata": {},
   "outputs": [
    {
     "data": {
      "text/plain": [
       "array([0.06617177, 0.11253898, 0.18846291, 0.50164153, 0.61608721,\n",
       "       0.63370092, 0.64305414, 0.73121829, 0.79908695, 0.86066886])"
      ]
     },
     "execution_count": 83,
     "metadata": {},
     "output_type": "execute_result"
    }
   ],
   "source": [
    "#### 14. Create a random vector of size 10 and sort it \n",
    "\n",
    "random_vector = np.random.rand(10)\n",
    "sorted_vector = np.sort(random_vector)\n",
    "sorted_vector"
   ]
  },
  {
   "cell_type": "code",
   "execution_count": 49,
   "id": "b86456f8-f6d7-4082-8235-5a661bfa5167",
   "metadata": {},
   "outputs": [
    {
     "data": {
      "text/plain": [
       "array([0.78735757, 0.        , 0.41007268, 0.6725307 , 0.76775859,\n",
       "       0.93451941, 0.31625282, 0.78480758, 0.30243852, 0.4783209 ])"
      ]
     },
     "execution_count": 49,
     "metadata": {},
     "output_type": "execute_result"
    }
   ],
   "source": [
    "#### 15. Create random vector of size 10 and replace the maximum value by 0\n",
    "\n",
    "random_vector = np.random.random(10)\n",
    "max = random_vector.max()\n",
    "random_vector[random_vector.argmax()] = 0\n",
    "random_vector"
   ]
  },
  {
   "cell_type": "code",
   "execution_count": 51,
   "id": "3c6e3ad6-1a6f-4574-ad47-7602861d8485",
   "metadata": {},
   "outputs": [
    {
     "data": {
      "text/plain": [
       "array([[-0.14411013, -0.00887544,  0.08728909, -0.33336938,  0.39906586],\n",
       "       [ 0.48087591, -0.06365339,  0.20455702, -0.41106156, -0.21071798],\n",
       "       [-0.2510148 , -0.09509953,  0.13945515,  0.27617229, -0.06951311],\n",
       "       [ 0.25970921,  0.13133048,  0.05771722, -0.15177817, -0.29697875],\n",
       "       [-0.5032326 ,  0.04901762,  0.01986644,  0.21815188,  0.21619666]])"
      ]
     },
     "execution_count": 51,
     "metadata": {},
     "output_type": "execute_result"
    }
   ],
   "source": [
    "#### 16. Subtract the mean of each row of a matrix   hint: mean(axis=,keepdims=True)`keepdimension\n",
    "\n",
    "matrix = np.random.rand(5,5)\n",
    "mean_sub = matrix - matrix.mean(axis=1, keepdims=True)\n",
    "mean_sub"
   ]
  },
  {
   "cell_type": "code",
   "execution_count": 57,
   "id": "34927ae2-329c-4ab4-b1d7-b14d1afee215",
   "metadata": {},
   "outputs": [
    {
     "data": {
      "text/plain": [
       "array([9995, 9996, 9997, 9998, 9999])"
      ]
     },
     "execution_count": 57,
     "metadata": {},
     "output_type": "execute_result"
    }
   ],
   "source": [
    "#### 17. How to get the n largest values of an array: hint: np.argsort(sort values) | np.argpartition\n",
    "\n",
    "np.random.seed(42)\n",
    "array = np.arange(10000)\n",
    "np.random.shuffle(array)\n",
    "n = 5                        # 5 largest values\n",
    "#indices = np.argpartition(array, -n)[-n:]\n",
    "#n_largest_values = array[indices]\n",
    "\n",
    "indices = array[np.argsort(array)][-n:]    #could also use np.sort [-n:]\n",
    "indices"
   ]
  },
  {
   "cell_type": "code",
   "execution_count": 71,
   "id": "9666fc02-8b38-40f8-bfee-0259a5b49842",
   "metadata": {},
   "outputs": [
    {
     "name": "stdout",
     "output_type": "stream",
     "text": [
      "[[ 0  1  2]\n",
      " [ 3  4  5]\n",
      " [ 6  7  8]\n",
      " [ 9 10 11]\n",
      " [12 13 14]]\n"
     ]
    },
    {
     "data": {
      "text/plain": [
       "array([[  0,   1,   2],\n",
       "       [  3,   4,  25],\n",
       "       [ 36,  49,  64],\n",
       "       [ 81, 100, 121],\n",
       "       [144, 169, 196]])"
      ]
     },
     "execution_count": 71,
     "metadata": {},
     "output_type": "execute_result"
    }
   ],
   "source": [
    "#### 18. Create a random 5*3 matrix and replace items that are larger than 4 by their squares ( Example:  6 --> 36) hint: np.where`\n",
    "\n",
    "\n",
    "random_matrix = np.arange(15).reshape(5,3)\n",
    "print(random_matrix)\n",
    "random_matrix_new = np.where(random_matrix > 4, np.square(random_matrix), random_matrix)\n",
    "random_matrix_new"
   ]
  },
  {
   "cell_type": "code",
   "execution_count": null,
   "id": "f8ea71f7-94d8-4931-a5f7-cabb1e103d03",
   "metadata": {},
   "outputs": [],
   "source": []
  }
 ],
 "metadata": {
  "kernelspec": {
   "display_name": "Python 3 (ipykernel)",
   "language": "python",
   "name": "python3"
  },
  "language_info": {
   "codemirror_mode": {
    "name": "ipython",
    "version": 3
   },
   "file_extension": ".py",
   "mimetype": "text/x-python",
   "name": "python",
   "nbconvert_exporter": "python",
   "pygments_lexer": "ipython3",
   "version": "3.12.4"
  }
 },
 "nbformat": 4,
 "nbformat_minor": 5
}
